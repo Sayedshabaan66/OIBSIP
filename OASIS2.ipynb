{
  "nbformat": 4,
  "nbformat_minor": 0,
  "metadata": {
    "colab": {
      "provenance": []
    },
    "kernelspec": {
      "name": "python3",
      "display_name": "Python 3"
    },
    "language_info": {
      "name": "python"
    }
  },
  "cells": [
    {
      "cell_type": "markdown",
      "source": [
        "LEVEL- 1\n",
        "Idea: Cleaning Data"
      ],
      "metadata": {
        "id": "PiWjY19G6Tdb"
      }
    },
    {
      "cell_type": "code",
      "source": [
        "import pandas as pd\n",
        "\n",
        "# Load the dataset\n",
        "df = pd.read_csv('AB_NYC_2019.csv')\n",
        "\n",
        "# Display the first few rows\n",
        "print(df.head())\n"
      ],
      "metadata": {
        "colab": {
          "base_uri": "https://localhost:8080/"
        },
        "id": "skR-C0IM5phN",
        "outputId": "6a5bc6c4-c26d-4a1d-b6ad-c8f4b18a6f6f"
      },
      "execution_count": null,
      "outputs": [
        {
          "output_type": "stream",
          "name": "stdout",
          "text": [
            "     id                                              name  host_id  \\\n",
            "0  2539                Clean & quiet apt home by the park     2787   \n",
            "1  2595                             Skylit Midtown Castle     2845   \n",
            "2  3647               THE VILLAGE OF HARLEM....NEW YORK !     4632   \n",
            "3  3831                   Cozy Entire Floor of Brownstone     4869   \n",
            "4  5022  Entire Apt: Spacious Studio/Loft by central park     7192   \n",
            "\n",
            "     host_name neighbourhood_group neighbourhood  latitude  longitude  \\\n",
            "0         John            Brooklyn    Kensington  40.64749  -73.97237   \n",
            "1     Jennifer           Manhattan       Midtown  40.75362  -73.98377   \n",
            "2    Elisabeth           Manhattan        Harlem  40.80902  -73.94190   \n",
            "3  LisaRoxanne            Brooklyn  Clinton Hill  40.68514  -73.95976   \n",
            "4        Laura           Manhattan   East Harlem  40.79851  -73.94399   \n",
            "\n",
            "         room_type  price  minimum_nights  number_of_reviews last_review  \\\n",
            "0     Private room    149               1                  9  2018-10-19   \n",
            "1  Entire home/apt    225               1                 45  2019-05-21   \n",
            "2     Private room    150               3                  0         NaN   \n",
            "3  Entire home/apt     89               1                270  2019-07-05   \n",
            "4  Entire home/apt     80              10                  9  2018-11-19   \n",
            "\n",
            "   reviews_per_month  calculated_host_listings_count  availability_365  \n",
            "0               0.21                               6               365  \n",
            "1               0.38                               2               355  \n",
            "2                NaN                               1               365  \n",
            "3               4.64                               1               194  \n",
            "4               0.10                               1                 0  \n"
          ]
        }
      ]
    },
    {
      "cell_type": "code",
      "source": [
        "# Check data types\n",
        "print(df.dtypes)\n",
        "\n",
        "# Convert date columns to datetime\n",
        "df['last_review'] = pd.to_datetime(df['last_review'], errors='coerce')\n",
        "\n",
        "# Display summary statistics\n",
        "print(df.describe(include='all'))\n"
      ],
      "metadata": {
        "colab": {
          "base_uri": "https://localhost:8080/"
        },
        "id": "DXw05mwR5yvy",
        "outputId": "ad731a55-3570-42d0-85f5-38a8084f0c8c"
      },
      "execution_count": null,
      "outputs": [
        {
          "output_type": "stream",
          "name": "stdout",
          "text": [
            "id                                  int64\n",
            "name                               object\n",
            "host_id                             int64\n",
            "host_name                          object\n",
            "neighbourhood_group                object\n",
            "neighbourhood                      object\n",
            "latitude                          float64\n",
            "longitude                         float64\n",
            "room_type                          object\n",
            "price                               int64\n",
            "minimum_nights                      int64\n",
            "number_of_reviews                   int64\n",
            "last_review                        object\n",
            "reviews_per_month                 float64\n",
            "calculated_host_listings_count      int64\n",
            "availability_365                    int64\n",
            "dtype: object\n",
            "                  id            name       host_id host_name  \\\n",
            "count   4.889500e+04           48879  4.889500e+04     48874   \n",
            "unique           NaN           47905           NaN     11452   \n",
            "top              NaN  Hillside Hotel           NaN   Michael   \n",
            "freq             NaN              18           NaN       417   \n",
            "mean    1.901714e+07             NaN  6.762001e+07       NaN   \n",
            "min     2.539000e+03             NaN  2.438000e+03       NaN   \n",
            "25%     9.471945e+06             NaN  7.822033e+06       NaN   \n",
            "50%     1.967728e+07             NaN  3.079382e+07       NaN   \n",
            "75%     2.915218e+07             NaN  1.074344e+08       NaN   \n",
            "max     3.648724e+07             NaN  2.743213e+08       NaN   \n",
            "std     1.098311e+07             NaN  7.861097e+07       NaN   \n",
            "\n",
            "       neighbourhood_group neighbourhood      latitude     longitude  \\\n",
            "count                48895         48895  48895.000000  48895.000000   \n",
            "unique                   5           221           NaN           NaN   \n",
            "top              Manhattan  Williamsburg           NaN           NaN   \n",
            "freq                 21661          3920           NaN           NaN   \n",
            "mean                   NaN           NaN     40.728949    -73.952170   \n",
            "min                    NaN           NaN     40.499790    -74.244420   \n",
            "25%                    NaN           NaN     40.690100    -73.983070   \n",
            "50%                    NaN           NaN     40.723070    -73.955680   \n",
            "75%                    NaN           NaN     40.763115    -73.936275   \n",
            "max                    NaN           NaN     40.913060    -73.712990   \n",
            "std                    NaN           NaN      0.054530      0.046157   \n",
            "\n",
            "              room_type         price  minimum_nights  number_of_reviews  \\\n",
            "count             48895  48895.000000    48895.000000       48895.000000   \n",
            "unique                3           NaN             NaN                NaN   \n",
            "top     Entire home/apt           NaN             NaN                NaN   \n",
            "freq              25409           NaN             NaN                NaN   \n",
            "mean                NaN    152.720687        7.029962          23.274466   \n",
            "min                 NaN      0.000000        1.000000           0.000000   \n",
            "25%                 NaN     69.000000        1.000000           1.000000   \n",
            "50%                 NaN    106.000000        3.000000           5.000000   \n",
            "75%                 NaN    175.000000        5.000000          24.000000   \n",
            "max                 NaN  10000.000000     1250.000000         629.000000   \n",
            "std                 NaN    240.154170       20.510550          44.550582   \n",
            "\n",
            "                          last_review  reviews_per_month  \\\n",
            "count                           38843       38843.000000   \n",
            "unique                            NaN                NaN   \n",
            "top                               NaN                NaN   \n",
            "freq                              NaN                NaN   \n",
            "mean    2018-10-04 01:47:23.910099456           1.373221   \n",
            "min               2011-03-28 00:00:00           0.010000   \n",
            "25%               2018-07-08 00:00:00           0.190000   \n",
            "50%               2019-05-19 00:00:00           0.720000   \n",
            "75%               2019-06-23 00:00:00           2.020000   \n",
            "max               2019-07-08 00:00:00          58.500000   \n",
            "std                               NaN           1.680442   \n",
            "\n",
            "        calculated_host_listings_count  availability_365  \n",
            "count                     48895.000000      48895.000000  \n",
            "unique                             NaN               NaN  \n",
            "top                                NaN               NaN  \n",
            "freq                               NaN               NaN  \n",
            "mean                          7.143982        112.781327  \n",
            "min                           1.000000          0.000000  \n",
            "25%                           1.000000          0.000000  \n",
            "50%                           1.000000         45.000000  \n",
            "75%                           2.000000        227.000000  \n",
            "max                         327.000000        365.000000  \n",
            "std                          32.952519        131.622289  \n"
          ]
        }
      ]
    },
    {
      "cell_type": "code",
      "source": [
        "# Check for missing values\n",
        "missing_values = df.isnull().sum()\n",
        "print(missing_values)\n",
        "\n",
        "# Handle missing values\n",
        "# Example: Filling missing values in 'reviews_per_month' with the median\n",
        "df['reviews_per_month'].fillna(df['reviews_per_month'].median(), inplace=True)\n",
        "\n",
        "# Example: Dropping rows where 'last_review' is missing\n",
        "df.dropna(subset=['last_review'], inplace=True)\n"
      ],
      "metadata": {
        "colab": {
          "base_uri": "https://localhost:8080/"
        },
        "id": "CPv-R6fp52qJ",
        "outputId": "c5d9b295-813c-4ef8-815a-ef1052001da3"
      },
      "execution_count": null,
      "outputs": [
        {
          "output_type": "stream",
          "name": "stdout",
          "text": [
            "id                                    0\n",
            "name                                 16\n",
            "host_id                               0\n",
            "host_name                            21\n",
            "neighbourhood_group                   0\n",
            "neighbourhood                         0\n",
            "latitude                              0\n",
            "longitude                             0\n",
            "room_type                             0\n",
            "price                                 0\n",
            "minimum_nights                        0\n",
            "number_of_reviews                     0\n",
            "last_review                       10052\n",
            "reviews_per_month                 10052\n",
            "calculated_host_listings_count        0\n",
            "availability_365                      0\n",
            "dtype: int64\n"
          ]
        }
      ]
    },
    {
      "cell_type": "code",
      "source": [
        "# Check for duplicates\n",
        "duplicates = df.duplicated()\n",
        "print(f\"Number of duplicate rows: {duplicates.sum()}\")\n",
        "\n",
        "# Remove duplicates\n",
        "df.drop_duplicates(inplace=True)\n"
      ],
      "metadata": {
        "colab": {
          "base_uri": "https://localhost:8080/"
        },
        "id": "-wio18HM56BN",
        "outputId": "74860fd6-4509-4df4-b44c-3364256697d1"
      },
      "execution_count": null,
      "outputs": [
        {
          "output_type": "stream",
          "name": "stdout",
          "text": [
            "Number of duplicate rows: 0\n"
          ]
        }
      ]
    },
    {
      "cell_type": "code",
      "source": [
        "# Standardize 'price' to float\n",
        "df['price'] = df['price'].astype(float)\n",
        "\n",
        "# Example: Standardize 'room_type' to lowercase\n",
        "df['room_type'] = df['room_type'].str.lower()\n",
        "\n",
        "# Display unique values to check consistency\n",
        "print(df['room_type'].unique())\n"
      ],
      "metadata": {
        "colab": {
          "base_uri": "https://localhost:8080/"
        },
        "id": "5wTeoMFi588v",
        "outputId": "8e5ff06d-fd66-4e47-ca14-91df9797d56f"
      },
      "execution_count": null,
      "outputs": [
        {
          "output_type": "stream",
          "name": "stdout",
          "text": [
            "['private room' 'entire home/apt' 'shared room']\n"
          ]
        }
      ]
    },
    {
      "cell_type": "code",
      "source": [
        "import matplotlib.pyplot as plt\n",
        "import seaborn as sns\n",
        "\n",
        "# Visualize outliers in the 'price' column using a box plot\n",
        "plt.figure(figsize=(10, 6))\n",
        "sns.boxplot(x=df['price'])\n",
        "plt.title('Box plot of Price')\n",
        "plt.show()\n",
        "\n",
        "# Example: Remove outliers outside 1.5*IQR range\n",
        "Q1 = df['price'].quantile(0.25)\n",
        "Q3 = df['price'].quantile(0.75)\n",
        "IQR = Q3 - Q1\n",
        "lower_bound = Q1 - 1.5 * IQR\n",
        "upper_bound = Q3 + 1.5 * IQR\n",
        "\n",
        "# Filter out outliers\n",
        "df = df[(df['price'] >= lower_bound) & (df['price'] <= upper_bound)]\n",
        "\n",
        "# Verify the changes\n",
        "plt.figure(figsize=(10, 6))\n",
        "sns.boxplot(x=df['price'])\n",
        "plt.title('Box plot of Price after Outlier Removal')\n",
        "plt.show()\n"
      ],
      "metadata": {
        "colab": {
          "base_uri": "https://localhost:8080/",
          "height": 1000
        },
        "id": "aiZnz3d16AQc",
        "outputId": "7e684cba-af78-4484-80dc-aec19ce5901e"
      },
      "execution_count": null,
      "outputs": [
        {
          "output_type": "display_data",
          "data": {
            "text/plain": [
              "<Figure size 1000x600 with 1 Axes>"
            ],
            "image/png": "[encoded data removed]"
          },
          "metadata": {}
        },
        {
          "output_type": "display_data",
          "data": {
            "text/plain": [
              "<Figure size 1000x600 with 1 Axes>"
            ],
            "image/png": "[encoded data removed]"
          },
          "metadata": {}
        }
      ]
    }
  ]
}